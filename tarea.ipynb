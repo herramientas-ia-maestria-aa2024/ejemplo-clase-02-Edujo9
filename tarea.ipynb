{
 "cells": [
  {
   "cell_type": "code",
   "execution_count": 20,
   "metadata": {},
   "outputs": [],
   "source": [
    "import spacy\n"
   ]
  },
  {
   "cell_type": "code",
   "execution_count": 21,
   "metadata": {},
   "outputs": [],
   "source": [
    "nlp = spacy.load(\"es_core_news_sm\")\n"
   ]
  },
  {
   "cell_type": "code",
   "execution_count": 22,
   "metadata": {},
   "outputs": [],
   "source": [
    "a = open('discurso.txt','r', encoding='utf-8')\n",
    "texto = a.read()\n",
    "b = nlp(texto)\n"
   ]
  },
  {
   "cell_type": "code",
   "execution_count": 23,
   "metadata": {},
   "outputs": [
    {
     "name": "stdout",
     "output_type": "stream",
     "text": [
      " \n",
      " Como ya no estaba matriculado y no tenía clases obligatorias, decidí atender al curso de caligrafía para aprender cómo se hacía.\n",
      " \n",
      " Aprendí cosas sobre el serif y tipografías sans serif, sobre los espacios variables entre letras, sobre qué hace realmente grande a una gran tipografía.\n",
      " \n",
      " Era sutilmente bello, histórica y artísticamente, de una forma que la ciencia no puede capturar, y lo encontré fascinante.\n",
      " \n",
      " Nada de esto tenía ni la más mínima esperanza de aplicación práctica en mi vida.\n",
      " \n",
      " Pero diez años más tarde, cuando estábamos diseñando el primer ordenador Macintosh, todo eso volvió a mí.\n",
      " \n",
      " Y diseñamos el Mac con eso en su esencia.\n",
      " \n",
      " Fue el primer ordenador con tipografías bellas.\n",
      " \n",
      " Si nunca me hubiera dejado caer por aquel curso concreto en la universidad, el Mac jamás habría tenido múltiples tipografías, ni caracteres con espaciado proporcional.\n",
      " \n",
      " Y como Windows no hizo más que copiar el Mac, es probable que ningún ordenador personal los tuviera ahora.\n",
      " \n",
      " Si nunca hubiera decidido dejarlo, no habría entrado en esa clase de caligrafía y los ordenadores personales no tendrían la maravillosa tipografía que poseen.\n",
      "\n"
     ]
    }
   ],
   "source": [
    "#oraciones\n",
    "for oraciones in b.sents:\n",
    "\tprint(f' ')\n",
    "\tprint(f' {oraciones}')\n",
    "\t\n"
   ]
  },
  {
   "cell_type": "code",
   "execution_count": 34,
   "metadata": {},
   "outputs": [
    {
     "ename": "AttributeError",
     "evalue": "'generator' object has no attribute 'ispunct'",
     "output_type": "error",
     "traceback": [
      "\u001b[1;31m---------------------------------------------------------------------------\u001b[0m",
      "\u001b[1;31mAttributeError\u001b[0m                            Traceback (most recent call last)",
      "Cell \u001b[1;32mIn[34], line 2\u001b[0m\n\u001b[0;32m      1\u001b[0m \u001b[38;5;28;01mfor\u001b[39;00m i, elementos \u001b[38;5;129;01min\u001b[39;00m \u001b[38;5;28menumerate\u001b[39m(b\u001b[38;5;241m.\u001b[39msents ):\n\u001b[1;32m----> 2\u001b[0m \t\u001b[38;5;28;01mif\u001b[39;00m \u001b[38;5;129;01mnot\u001b[39;00m(\u001b[43mb\u001b[49m\u001b[38;5;241;43m.\u001b[39;49m\u001b[43msents\u001b[49m\u001b[38;5;241;43m.\u001b[39;49m\u001b[43mispunct\u001b[49m()):\n\u001b[0;32m      3\u001b[0m \t\t\u001b[38;5;28mprint\u001b[39m(\u001b[38;5;124mf\u001b[39m\u001b[38;5;124m'\u001b[39m\u001b[38;5;124m cantidad de elementos en la oración \u001b[39m\u001b[38;5;132;01m{\u001b[39;00mi\u001b[38;5;241m+\u001b[39m\u001b[38;5;241m1\u001b[39m\u001b[38;5;132;01m}\u001b[39;00m\u001b[38;5;124m : \u001b[39m\u001b[38;5;132;01m{\u001b[39;00m\u001b[38;5;28mlen\u001b[39m(elementos)\u001b[38;5;132;01m}\u001b[39;00m\u001b[38;5;124m'\u001b[39m)\n",
      "\u001b[1;31mAttributeError\u001b[0m: 'generator' object has no attribute 'ispunct'"
     ]
    }
   ],
   "source": [
    "for i, elementos in enumerate(b.sents ):\n",
    "\t\tprint(f' cantidad de elementos en la oración {i+1} : {len(elementos)}')"
   ]
  }
 ],
 "metadata": {
  "kernelspec": {
   "display_name": "Python 3",
   "language": "python",
   "name": "python3"
  },
  "language_info": {
   "codemirror_mode": {
    "name": "ipython",
    "version": 3
   },
   "file_extension": ".py",
   "mimetype": "text/x-python",
   "name": "python",
   "nbconvert_exporter": "python",
   "pygments_lexer": "ipython3",
   "version": "3.10.5"
  }
 },
 "nbformat": 4,
 "nbformat_minor": 2
}
