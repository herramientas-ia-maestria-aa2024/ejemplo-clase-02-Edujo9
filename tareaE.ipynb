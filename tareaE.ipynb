{
 "cells": [
  {
   "cell_type": "code",
   "execution_count": 2,
   "metadata": {},
   "outputs": [],
   "source": [
    "import spacy"
   ]
  },
  {
   "cell_type": "code",
   "execution_count": 3,
   "metadata": {},
   "outputs": [],
   "source": [
    "nlp = spacy.load(\"es_core_news_sm\")"
   ]
  },
  {
   "cell_type": "code",
   "execution_count": 4,
   "metadata": {},
   "outputs": [],
   "source": [
    "a = open('discurso.txt','r', encoding='utf-8')\n",
    "texto = a.read()\n",
    "b = nlp(texto)"
   ]
  },
  {
   "cell_type": "code",
   "execution_count": 5,
   "metadata": {},
   "outputs": [
    {
     "name": "stdout",
     "output_type": "stream",
     "text": [
      " \n",
      " Como ya no estaba matriculado y no tenía clases obligatorias, decidí atender al curso de caligrafía para aprender cómo se hacía.\n",
      " \n",
      " Aprendí cosas sobre el serif y tipografías sans serif, sobre los espacios variables entre letras, sobre qué hace realmente grande a una gran tipografía.\n",
      " \n",
      " Era sutilmente bello, histórica y artísticamente, de una forma que la ciencia no puede capturar, y lo encontré fascinante.\n",
      " \n",
      " Nada de esto tenía ni la más mínima esperanza de aplicación práctica en mi vida.\n",
      " \n",
      " Pero diez años más tarde, cuando estábamos diseñando el primer ordenador Macintosh, todo eso volvió a mí.\n",
      " \n",
      " Y diseñamos el Mac con eso en su esencia.\n",
      " \n",
      " Fue el primer ordenador con tipografías bellas.\n",
      " \n",
      " Si nunca me hubiera dejado caer por aquel curso concreto en la universidad, el Mac jamás habría tenido múltiples tipografías, ni caracteres con espaciado proporcional.\n",
      " \n",
      " Y como Windows no hizo más que copiar el Mac, es probable que ningún ordenador personal los tuviera ahora.\n",
      " \n",
      " Si nunca hubiera decidido dejarlo, no habría entrado en esa clase de caligrafía y los ordenadores personales no tendrían la maravillosa tipografía que poseen.\n",
      "\n"
     ]
    }
   ],
   "source": [
    "#oraciones\n",
    "for oraciones in b.sents:\n",
    "\tprint(f' ')\n",
    "\tprint(f' {oraciones}')"
   ]
  },
  {
   "cell_type": "code",
   "execution_count": 6,
   "metadata": {},
   "outputs": [
    {
     "name": "stdout",
     "output_type": "stream",
     "text": [
      " cantidad de elementos en la oración 1 : 128\n",
      " cantidad de elementos en la oración 2 : 152\n",
      " cantidad de elementos en la oración 3 : 122\n",
      " cantidad de elementos en la oración 4 : 80\n",
      " cantidad de elementos en la oración 5 : 105\n",
      " cantidad de elementos en la oración 6 : 41\n",
      " cantidad de elementos en la oración 7 : 47\n",
      " cantidad de elementos en la oración 8 : 167\n",
      " cantidad de elementos en la oración 9 : 106\n",
      " cantidad de elementos en la oración 10 : 159\n"
     ]
    }
   ],
   "source": [
    "for i, elementos in enumerate(b.sents ):\n",
    "\t\tprint(f' cantidad de elementos en la oración {i+1} : {len(elementos.text)}')"
   ]
  }
 ],
 "metadata": {
  "kernelspec": {
   "display_name": "Python 3",
   "language": "python",
   "name": "python3"
  },
  "language_info": {
   "codemirror_mode": {
    "name": "ipython",
    "version": 3
   },
   "file_extension": ".py",
   "mimetype": "text/x-python",
   "name": "python",
   "nbconvert_exporter": "python",
   "pygments_lexer": "ipython3",
   "version": "3.10.5"
  }
 },
 "nbformat": 4,
 "nbformat_minor": 2
}
